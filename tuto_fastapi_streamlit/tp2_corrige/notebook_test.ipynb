{
 "cells": [
  {
   "cell_type": "code",
   "execution_count": 4,
   "id": "b0c2cd19-6148-4b08-9b46-d3f7e9668206",
   "metadata": {
    "execution": {
     "iopub.execute_input": "2023-11-18T06:10:44.398113Z",
     "iopub.status.busy": "2023-11-18T06:10:44.396894Z",
     "iopub.status.idle": "2023-11-18T06:10:44.407051Z",
     "shell.execute_reply": "2023-11-18T06:10:44.405965Z",
     "shell.execute_reply.started": "2023-11-18T06:10:44.398021Z"
    },
    "tags": []
   },
   "outputs": [],
   "source": [
    "from make_dataset import get_data"
   ]
  },
  {
   "cell_type": "code",
   "execution_count": 5,
   "id": "4b5e56a8-7d53-46f8-826f-0d7b86eda644",
   "metadata": {
    "execution": {
     "iopub.execute_input": "2023-11-18T06:10:44.809024Z",
     "iopub.status.busy": "2023-11-18T06:10:44.808510Z",
     "iopub.status.idle": "2023-11-18T06:10:46.433235Z",
     "shell.execute_reply": "2023-11-18T06:10:46.432149Z",
     "shell.execute_reply.started": "2023-11-18T06:10:44.808970Z"
    },
    "tags": []
   },
   "outputs": [],
   "source": [
    "data = get_data()"
   ]
  },
  {
   "cell_type": "code",
   "execution_count": 6,
   "id": "fe3aa4e8-0595-49ec-a286-2733fe6235d9",
   "metadata": {
    "execution": {
     "iopub.execute_input": "2023-11-18T06:10:46.435426Z",
     "iopub.status.busy": "2023-11-18T06:10:46.435133Z",
     "iopub.status.idle": "2023-11-18T06:10:46.469024Z",
     "shell.execute_reply": "2023-11-18T06:10:46.466644Z",
     "shell.execute_reply.started": "2023-11-18T06:10:46.435399Z"
    },
    "tags": []
   },
   "outputs": [
    {
     "data": {
      "text/html": [
       "<div>\n",
       "<style scoped>\n",
       "    .dataframe tbody tr th:only-of-type {\n",
       "        vertical-align: middle;\n",
       "    }\n",
       "\n",
       "    .dataframe tbody tr th {\n",
       "        vertical-align: top;\n",
       "    }\n",
       "\n",
       "    .dataframe thead th {\n",
       "        text-align: right;\n",
       "    }\n",
       "</style>\n",
       "<table border=\"1\" class=\"dataframe\">\n",
       "  <thead>\n",
       "    <tr style=\"text-align: right;\">\n",
       "      <th></th>\n",
       "      <th>timestamp</th>\n",
       "      <th>cookie_id</th>\n",
       "      <th>campaign_id</th>\n",
       "      <th>external_site_id</th>\n",
       "      <th>date_impression</th>\n",
       "      <th>date_clic</th>\n",
       "      <th>product_id</th>\n",
       "      <th>gender</th>\n",
       "      <th>dept</th>\n",
       "      <th>price</th>\n",
       "      <th>age</th>\n",
       "      <th>date_achat</th>\n",
       "      <th>is_clic</th>\n",
       "      <th>is_achat</th>\n",
       "    </tr>\n",
       "  </thead>\n",
       "  <tbody>\n",
       "    <tr>\n",
       "      <th>0</th>\n",
       "      <td>1761958804</td>\n",
       "      <td>2392769782</td>\n",
       "      <td>3</td>\n",
       "      <td>370668</td>\n",
       "      <td>2025-11-01 01:00:04</td>\n",
       "      <td>NaT</td>\n",
       "      <td>NaN</td>\n",
       "      <td>NaN</td>\n",
       "      <td>NaN</td>\n",
       "      <td>NaN</td>\n",
       "      <td>NaN</td>\n",
       "      <td>NaT</td>\n",
       "      <td>False</td>\n",
       "      <td>False</td>\n",
       "    </tr>\n",
       "    <tr>\n",
       "      <th>1</th>\n",
       "      <td>1761958876</td>\n",
       "      <td>2693949047</td>\n",
       "      <td>1</td>\n",
       "      <td>339897</td>\n",
       "      <td>2025-11-01 01:01:16</td>\n",
       "      <td>NaT</td>\n",
       "      <td>NaN</td>\n",
       "      <td>NaN</td>\n",
       "      <td>NaN</td>\n",
       "      <td>NaN</td>\n",
       "      <td>NaN</td>\n",
       "      <td>NaT</td>\n",
       "      <td>False</td>\n",
       "      <td>False</td>\n",
       "    </tr>\n",
       "    <tr>\n",
       "      <th>2</th>\n",
       "      <td>1761958920</td>\n",
       "      <td>6841408721</td>\n",
       "      <td>2</td>\n",
       "      <td>989339</td>\n",
       "      <td>2025-11-01 01:02:00</td>\n",
       "      <td>NaT</td>\n",
       "      <td>NaN</td>\n",
       "      <td>NaN</td>\n",
       "      <td>NaN</td>\n",
       "      <td>NaN</td>\n",
       "      <td>NaN</td>\n",
       "      <td>NaT</td>\n",
       "      <td>False</td>\n",
       "      <td>False</td>\n",
       "    </tr>\n",
       "    <tr>\n",
       "      <th>3</th>\n",
       "      <td>1761958986</td>\n",
       "      <td>1457891936</td>\n",
       "      <td>1</td>\n",
       "      <td>530191</td>\n",
       "      <td>2025-11-01 01:03:06</td>\n",
       "      <td>NaT</td>\n",
       "      <td>NaN</td>\n",
       "      <td>NaN</td>\n",
       "      <td>NaN</td>\n",
       "      <td>NaN</td>\n",
       "      <td>NaN</td>\n",
       "      <td>NaT</td>\n",
       "      <td>False</td>\n",
       "      <td>False</td>\n",
       "    </tr>\n",
       "    <tr>\n",
       "      <th>4</th>\n",
       "      <td>1761959035</td>\n",
       "      <td>5354259272</td>\n",
       "      <td>1</td>\n",
       "      <td>206900</td>\n",
       "      <td>2025-11-01 01:03:55</td>\n",
       "      <td>NaT</td>\n",
       "      <td>NaN</td>\n",
       "      <td>NaN</td>\n",
       "      <td>NaN</td>\n",
       "      <td>NaN</td>\n",
       "      <td>NaN</td>\n",
       "      <td>NaT</td>\n",
       "      <td>False</td>\n",
       "      <td>False</td>\n",
       "    </tr>\n",
       "  </tbody>\n",
       "</table>\n",
       "</div>"
      ],
      "text/plain": [
       "    timestamp   cookie_id campaign_id external_site_id     date_impression  \\\n",
       "0  1761958804  2392769782           3           370668 2025-11-01 01:00:04   \n",
       "1  1761958876  2693949047           1           339897 2025-11-01 01:01:16   \n",
       "2  1761958920  6841408721           2           989339 2025-11-01 01:02:00   \n",
       "3  1761958986  1457891936           1           530191 2025-11-01 01:03:06   \n",
       "4  1761959035  5354259272           1           206900 2025-11-01 01:03:55   \n",
       "\n",
       "  date_clic product_id gender dept  price  age date_achat  is_clic  is_achat  \n",
       "0       NaT        NaN    NaN  NaN    NaN  NaN        NaT    False     False  \n",
       "1       NaT        NaN    NaN  NaN    NaN  NaN        NaT    False     False  \n",
       "2       NaT        NaN    NaN  NaN    NaN  NaN        NaT    False     False  \n",
       "3       NaT        NaN    NaN  NaN    NaN  NaN        NaT    False     False  \n",
       "4       NaT        NaN    NaN  NaN    NaN  NaN        NaT    False     False  "
      ]
     },
     "execution_count": 6,
     "metadata": {},
     "output_type": "execute_result"
    }
   ],
   "source": [
    "data.head()"
   ]
  },
  {
   "cell_type": "code",
   "execution_count": null,
   "id": "b730776c-92c8-46ad-8013-050ce221a1d7",
   "metadata": {},
   "outputs": [],
   "source": []
  }
 ],
 "metadata": {
  "kernelspec": {
   "display_name": "Python 3 (ipykernel)",
   "language": "python",
   "name": "python3"
  },
  "language_info": {
   "codemirror_mode": {
    "name": "ipython",
    "version": 3
   },
   "file_extension": ".py",
   "mimetype": "text/x-python",
   "name": "python",
   "nbconvert_exporter": "python",
   "pygments_lexer": "ipython3",
   "version": "3.9.7"
  }
 },
 "nbformat": 4,
 "nbformat_minor": 5
}
